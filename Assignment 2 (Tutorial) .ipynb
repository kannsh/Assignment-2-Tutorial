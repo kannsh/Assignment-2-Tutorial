{
 "cells": [
  {
   "cell_type": "markdown",
   "metadata": {},
   "source": [
    "# Lets get started with Assignment 2!\n",
    "\n",
    "First we import the necessary package\n",
    "We can generate the content of the csv file using pandas 'read_csv'\n",
    "\n",
    "The CSV file contains all our sine and cosine graph plot value (x and y relation)"
   ]
  },
  {
   "cell_type": "code",
   "execution_count": 136,
   "metadata": {},
   "outputs": [
    {
     "data": {
      "text/html": [
       "<div>\n",
       "<style scoped>\n",
       "    .dataframe tbody tr th:only-of-type {\n",
       "        vertical-align: middle;\n",
       "    }\n",
       "\n",
       "    .dataframe tbody tr th {\n",
       "        vertical-align: top;\n",
       "    }\n",
       "\n",
       "    .dataframe thead th {\n",
       "        text-align: right;\n",
       "    }\n",
       "</style>\n",
       "<table border=\"1\" class=\"dataframe\">\n",
       "  <thead>\n",
       "    <tr style=\"text-align: right;\">\n",
       "      <th></th>\n",
       "      <th>0</th>\n",
       "      <th>0.1</th>\n",
       "    </tr>\n",
       "  </thead>\n",
       "  <tbody>\n",
       "    <tr>\n",
       "      <th>0</th>\n",
       "      <td>0.100</td>\n",
       "      <td>0.099833</td>\n",
       "    </tr>\n",
       "    <tr>\n",
       "      <th>1</th>\n",
       "      <td>0.200</td>\n",
       "      <td>0.198669</td>\n",
       "    </tr>\n",
       "    <tr>\n",
       "      <th>2</th>\n",
       "      <td>0.300</td>\n",
       "      <td>0.295520</td>\n",
       "    </tr>\n",
       "    <tr>\n",
       "      <th>3</th>\n",
       "      <td>0.400</td>\n",
       "      <td>0.389418</td>\n",
       "    </tr>\n",
       "    <tr>\n",
       "      <th>4</th>\n",
       "      <td>0.500</td>\n",
       "      <td>0.479426</td>\n",
       "    </tr>\n",
       "    <tr>\n",
       "      <th>...</th>\n",
       "      <td>...</td>\n",
       "      <td>...</td>\n",
       "    </tr>\n",
       "    <tr>\n",
       "      <th>58</th>\n",
       "      <td>5.900</td>\n",
       "      <td>-0.373877</td>\n",
       "    </tr>\n",
       "    <tr>\n",
       "      <th>59</th>\n",
       "      <td>6.000</td>\n",
       "      <td>-0.279415</td>\n",
       "    </tr>\n",
       "    <tr>\n",
       "      <th>60</th>\n",
       "      <td>6.100</td>\n",
       "      <td>-0.182163</td>\n",
       "    </tr>\n",
       "    <tr>\n",
       "      <th>61</th>\n",
       "      <td>6.200</td>\n",
       "      <td>-0.083089</td>\n",
       "    </tr>\n",
       "    <tr>\n",
       "      <th>62</th>\n",
       "      <td>6.283</td>\n",
       "      <td>-0.000185</td>\n",
       "    </tr>\n",
       "  </tbody>\n",
       "</table>\n",
       "<p>63 rows × 2 columns</p>\n",
       "</div>"
      ],
      "text/plain": [
       "        0       0.1\n",
       "0   0.100  0.099833\n",
       "1   0.200  0.198669\n",
       "2   0.300  0.295520\n",
       "3   0.400  0.389418\n",
       "4   0.500  0.479426\n",
       "..    ...       ...\n",
       "58  5.900 -0.373877\n",
       "59  6.000 -0.279415\n",
       "60  6.100 -0.182163\n",
       "61  6.200 -0.083089\n",
       "62  6.283 -0.000185\n",
       "\n",
       "[63 rows x 2 columns]"
      ]
     },
     "execution_count": 136,
     "metadata": {},
     "output_type": "execute_result"
    }
   ],
   "source": [
    "import pandas as pd\n",
    "import matplotlib.pyplot as plt\n",
    "import numpy as np\n",
    "import os \n",
    "\n",
    "df = pd.read_csv('graph.csv') #header=None\n",
    "df"
   ]
  },
  {
   "cell_type": "markdown",
   "metadata": {},
   "source": [
    "Since this csv file contains only values, it takes the first cell as the x and y column names.\n",
    "We will give column names to the dataframe so that it will take 0 and 0.1 as graph plot values"
   ]
  },
  {
   "cell_type": "code",
   "execution_count": 137,
   "metadata": {},
   "outputs": [
    {
     "data": {
      "text/html": [
       "<div>\n",
       "<style scoped>\n",
       "    .dataframe tbody tr th:only-of-type {\n",
       "        vertical-align: middle;\n",
       "    }\n",
       "\n",
       "    .dataframe tbody tr th {\n",
       "        vertical-align: top;\n",
       "    }\n",
       "\n",
       "    .dataframe thead th {\n",
       "        text-align: right;\n",
       "    }\n",
       "</style>\n",
       "<table border=\"1\" class=\"dataframe\">\n",
       "  <thead>\n",
       "    <tr style=\"text-align: right;\">\n",
       "      <th></th>\n",
       "      <th>x</th>\n",
       "      <th>y</th>\n",
       "    </tr>\n",
       "  </thead>\n",
       "  <tbody>\n",
       "    <tr>\n",
       "      <th>0</th>\n",
       "      <td>0.0</td>\n",
       "      <td>0.000000</td>\n",
       "    </tr>\n",
       "    <tr>\n",
       "      <th>1</th>\n",
       "      <td>0.1</td>\n",
       "      <td>0.099833</td>\n",
       "    </tr>\n",
       "  </tbody>\n",
       "</table>\n",
       "</div>"
      ],
      "text/plain": [
       "     x         y\n",
       "0  0.0  0.000000\n",
       "1  0.1  0.099833"
      ]
     },
     "execution_count": 137,
     "metadata": {},
     "output_type": "execute_result"
    }
   ],
   "source": [
    "colnames=['x', 'y'] # Define column nnames, if we do not do so, it will take 0.00 and 0.10 as our column names \n",
    "df = pd.read_csv('graph.csv', names=colnames) #header=None\n",
    "df[0:2]"
   ]
  },
  {
   "cell_type": "markdown",
   "metadata": {},
   "source": [
    "There are many ways to print the column of the dataframe\n",
    "1. df.x shows table\n",
    "2. df['x'] shows df table\n",
    "3. df['x'].values shows array\n",
    "\n",
    "I use [?:?] rectangle brackets to specify the row of tables i want to see"
   ]
  },
  {
   "cell_type": "code",
   "execution_count": 138,
   "metadata": {},
   "outputs": [
    {
     "data": {
      "text/plain": [
       "0    0.0\n",
       "1    0.1\n",
       "Name: x, dtype: float64"
      ]
     },
     "execution_count": 138,
     "metadata": {},
     "output_type": "execute_result"
    }
   ],
   "source": [
    "df.x[0:2]"
   ]
  },
  {
   "cell_type": "code",
   "execution_count": 139,
   "metadata": {},
   "outputs": [
    {
     "data": {
      "text/plain": [
       "0    0.0\n",
       "1    0.1\n",
       "Name: x, dtype: float64"
      ]
     },
     "execution_count": 139,
     "metadata": {},
     "output_type": "execute_result"
    }
   ],
   "source": [
    "df['x'][0:2]"
   ]
  },
  {
   "cell_type": "code",
   "execution_count": 140,
   "metadata": {},
   "outputs": [
    {
     "data": {
      "text/plain": [
       "array([0. , 0.1])"
      ]
     },
     "execution_count": 140,
     "metadata": {},
     "output_type": "execute_result"
    }
   ],
   "source": [
    "df['x'].values[0:2]"
   ]
  },
  {
   "cell_type": "markdown",
   "metadata": {},
   "source": [
    "We can plot the first graph using plt.plot(x,y), marker is to mark the plot values - you can try 'o' or 'x'\n",
    "1. Colour of graph line can be changed to any colour - refer to matplotlib colours \n",
    "2. The label will be shown as the legend, easier to understand the graph colours\n",
    "3. We can label the graph title, x axis label and y axis label\n",
    "4. To plot the grid, we use plt.gried - We can change the style and width(how dark the lines are)"
   ]
  },
  {
   "cell_type": "code",
   "execution_count": 141,
   "metadata": {},
   "outputs": [
    {
     "data": {
      "image/png": "[encoded data removed]",
      "text/plain": [
       "<Figure size 432x288 with 1 Axes>"
      ]
     },
     "metadata": {
      "needs_background": "light"
     },
     "output_type": "display_data"
    }
   ],
   "source": [
    "plt.plot(df.x, df.y, marker='None', color='blue', label='Sine')\n",
    "plt.title('sine')\n",
    "plt.xlabel('x')\n",
    "plt.ylabel('y')\n",
    "plt.legend(loc='best') #loc = location / 'upper left' or 'best'\n",
    "plt.grid(color='black', linestyle='-', linewidth=0.1)\n",
    "plt.show()"
   ]
  },
  {
   "cell_type": "markdown",
   "metadata": {},
   "source": [
    "Now we need to plot the cosine graph, however, the data given was for a sine plot\n",
    "To plot the cosine graph with a sine graph, we simply move the sine graph until it becomes a cosine graph\n",
    "\n",
    "We will create a copy of the original dataframe called dfcopy and change the x values, since we need to move the sine graph\n",
    "1. We will minus pi/2 or 3.14/2 for every value in x column\n",
    "2. for i range(len(dfcopy)) is where variable, 'i' runs through the range. (In len(dfcopy) there are 64 columns in total)\n",
    "3. if (dfcopy.x[i] < 0) is for x values that are less than 0\n",
    "4. those x values will be increased by 2*3.142 to move the graph to the right \n",
    "5. Now all the x values have been modified, we sort the them by x and put into a dataframe called df2"
   ]
  },
  {
   "cell_type": "code",
   "execution_count": 142,
   "metadata": {},
   "outputs": [
    {
     "name": "stdout",
     "output_type": "stream",
     "text": [
      "         x         y\n",
      "16  0.0293  0.999574\n",
      "17  0.1293  0.991665\n",
      "18  0.2293  0.973848\n",
      "19  0.3293  0.946300\n",
      "20  0.4293  0.909297\n",
      "..     ...       ...\n",
      "11  5.8133  0.891207\n",
      "12  5.9133  0.932039\n",
      "13  6.0133  0.963558\n",
      "14  6.1133  0.985450\n",
      "15  6.2133  0.997495\n",
      "\n",
      "[64 rows x 2 columns]\n"
     ]
    }
   ],
   "source": [
    "dfcopy = df.copy()\n",
    "\n",
    "dfcopy.x = dfcopy.x - 1.5707\n",
    "for i in range(len(data1)):\n",
    "      if (dfcopy.x[i] < 0):\n",
    "        dfcopy.x[i]=dfcopy.x[i]+2*3.142\n",
    "df2=dfcopy.sort_values(by=['x'])\n",
    "print(df2)"
   ]
  },
  {
   "cell_type": "markdown",
   "metadata": {},
   "source": [
    "Now we can plot the cosine graph using values from df2\n",
    "\n",
    "If we plot them together in the same cell, both graph plots will be in one graph as shown below"
   ]
  },
  {
   "cell_type": "code",
   "execution_count": 143,
   "metadata": {},
   "outputs": [
    {
     "data": {
      "image/png": "[encoded data removed]",
      "text/plain": [
       "<Figure size 432x288 with 1 Axes>"
      ]
     },
     "metadata": {
      "needs_background": "light"
     },
     "output_type": "display_data"
    }
   ],
   "source": [
    "plt.plot(df2.x, df2.y, marker='None', color='red', label='Cosine')\n",
    "plt.title('sine/cosine wave form')\n",
    "plt.xlabel('x')\n",
    "plt.ylabel('y')\n",
    "plt.legend(loc='best') #loc = location / 'upper left' or 'best'\n",
    "plt.grid(color='black', linestyle='-', linewidth=0.1)\n",
    "plt.show()"
   ]
  },
  {
   "cell_type": "markdown",
   "metadata": {},
   "source": [
    "Here is the full code. You have completed Assignment 2!"
   ]
  },
  {
   "cell_type": "code",
   "execution_count": 144,
   "metadata": {},
   "outputs": [
    {
     "name": "stdout",
     "output_type": "stream",
     "text": [
      "         x         y\n",
      "16  0.0293  0.999574\n",
      "17  0.1293  0.991665\n",
      "18  0.2293  0.973848\n",
      "19  0.3293  0.946300\n",
      "20  0.4293  0.909297\n",
      "..     ...       ...\n",
      "11  5.8133  0.891207\n",
      "12  5.9133  0.932039\n",
      "13  6.0133  0.963558\n",
      "14  6.1133  0.985450\n",
      "15  6.2133  0.997495\n",
      "\n",
      "[64 rows x 2 columns]\n"
     ]
    },
    {
     "data": {
      "image/png": "[encoded data removed]",
      "text/plain": [
       "<Figure size 432x288 with 1 Axes>"
      ]
     },
     "metadata": {
      "needs_background": "light"
     },
     "output_type": "display_data"
    }
   ],
   "source": [
    "import pandas as pd\n",
    "import matplotlib.pyplot as plt\n",
    "import numpy as np\n",
    "import os \n",
    "\n",
    "colnames=['x', 'y'] # Define column nnames, if we do not do so, it will take 0.00 and 0.10 as our column names \n",
    "df = pd.read_csv('graph.csv', names=colnames) #header=None\n",
    "df\n",
    "plt.plot(df.x, df.y, marker='None', color='blue', label='Sine')\n",
    "\n",
    "dfcopy = df.copy()\n",
    "dfcopy.x = dfcopy.x - 1.5707\n",
    "for i in range(len(dfcopy)): \n",
    "      if (dfcopy.x[i] < 0):\n",
    "        dfcopy.x[i]=dfcopy.x[i]+2*3.142\n",
    "df2=dfcopy.sort_values(by=['x'])\n",
    "print(df2)\n",
    "\n",
    "plt.plot(df2.x, df2.y, marker='None', color='red', label='Cosine')\n",
    "plt.title('sine/cosine wave form')\n",
    "plt.xlabel('x')\n",
    "plt.ylabel('y')\n",
    "plt.legend(loc='best') #loc = location / 'upper left' or 'best'\n",
    "plt.grid(color='black', linestyle='-', linewidth=0.1)\n",
    "plt.show()"
   ]
  }
 ],
 "metadata": {
  "kernelspec": {
   "display_name": "Python 3",
   "language": "python",
   "name": "python3"
  },
  "language_info": {
   "codemirror_mode": {
    "name": "ipython",
    "version": 3
   },
   "file_extension": ".py",
   "mimetype": "text/x-python",
   "name": "python",
   "nbconvert_exporter": "python",
   "pygments_lexer": "ipython3",
   "version": "3.7.7"
  }
 },
 "nbformat": 4,
 "nbformat_minor": 4
}
